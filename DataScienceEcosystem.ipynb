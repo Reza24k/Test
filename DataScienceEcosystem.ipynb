{
 "cells": [
  {
   "cell_type": "markdown",
   "id": "e49ba93b-94ed-4865-b9e8-0ed750f32725",
   "metadata": {
    "tags": []
   },
   "source": [
    "# Data Science Tools and Ecosystem\n",
    "\n",
    "In this notebook, Data Science Tools and Ecosystem are summarized.\n",
    "\n",
    "### Objectives:\n",
    "* some of the popular languages that Data Scientists use\n",
    "* Some of the commonly used libraries used by Data Scientists\n",
    "* Data Science Tools\n",
    "* evaluating arithmetic expressions"
   ]
  },
  {
   "cell_type": "markdown",
   "id": "e8cfbd9c-d364-472d-b407-9cf3554d2dae",
   "metadata": {},
   "source": [
    "## some of the popular languages that Data Scientists use are:\n",
    "\n",
    "\n",
    "* Python \n",
    "* R\n",
    "* SQL\n",
    "* Julia\n",
    "* Java\n"
   ]
  },
  {
   "cell_type": "markdown",
   "id": "f636cc52-a81e-4154-b021-15e21346b18e",
   "metadata": {},
   "source": [
    "## Some of the commonly used libraries used by Data Scientists include:\n",
    "\n",
    "* NumPy\n",
    "* Pandas\n",
    "* SciPy\n",
    "* Matplotlib\n"
   ]
  },
  {
   "cell_type": "markdown",
   "id": "ba979734-8ea9-4a98-94a3-55734faa0a76",
   "metadata": {},
   "source": [
    "## Data Science Tools : \n",
    "\n",
    "|Data Science Tools|\n",
    "|-------------------|\n",
    "|MySQL|\n",
    "|KubeFlow|\n",
    "|Apache Superset|\n",
    "|Github|\n",
    "|RStudio|\n",
    "|Jupyter|\n",
    "\n"
   ]
  },
  {
   "cell_type": "markdown",
   "id": "804e670c-4b50-4fcb-b7e9-abf9603c0f5f",
   "metadata": {},
   "source": [
    "### Below are a few examples of evaluating arithmetic expressions in Python.\n",
    "\n",
    "|Name|Example|\n",
    "|-----|------|\n",
    "|Addition|print(1 + 2)|\n",
    "|Subtraction|print(5 - 3)|\n",
    "|Multiplication|print(2 * 3)|\n",
    "|Division|print(10 / 2)|\n",
    "\n",
    "\n"
   ]
  },
  {
   "cell_type": "code",
   "execution_count": 9,
   "id": "3c95e753-d22e-4b36-b738-efaa24d724f7",
   "metadata": {
    "tags": []
   },
   "outputs": [
    {
     "name": "stdout",
     "output_type": "stream",
     "text": [
      "17\n"
     ]
    }
   ],
   "source": [
    "# This is a simple arithmetic expression to multiply then add integers.\n",
    "\n",
    "print((3*4)+5)\n"
   ]
  },
  {
   "cell_type": "code",
   "execution_count": 10,
   "id": "b27ba5a4-3726-44ea-8e86-ede33cb9de97",
   "metadata": {
    "tags": []
   },
   "outputs": [
    {
     "name": "stdout",
     "output_type": "stream",
     "text": [
      "3.3333333333333335\n"
     ]
    }
   ],
   "source": [
    "#  This will convert 200 minutes to hours by diving by 60\n",
    "\n",
    "print(200/60)\n"
   ]
  },
  {
   "cell_type": "markdown",
   "id": "e75d9cea-597c-4769-83ea-a1a35f6fd77b",
   "metadata": {
    "tags": []
   },
   "source": [
    "## Author\n",
    "Reza Hosseini"
   ]
  },
  {
   "cell_type": "code",
   "execution_count": null,
   "id": "42510a81-385e-4a26-afa0-6ed8c36883ff",
   "metadata": {},
   "outputs": [],
   "source": []
  }
 ],
 "metadata": {
  "kernelspec": {
   "display_name": "Python 3 (ipykernel)",
   "language": "python",
   "name": "python3"
  },
  "language_info": {
   "codemirror_mode": {
    "name": "ipython",
    "version": 3
   },
   "file_extension": ".py",
   "mimetype": "text/x-python",
   "name": "python",
   "nbconvert_exporter": "python",
   "pygments_lexer": "ipython3",
   "version": "3.11.4"
  }
 },
 "nbformat": 4,
 "nbformat_minor": 5
}
